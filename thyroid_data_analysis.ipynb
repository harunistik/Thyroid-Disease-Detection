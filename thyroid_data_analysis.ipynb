{
 "cells": [
  {
   "cell_type": "markdown",
   "metadata": {
    "id": "VcwDY5jzOEFb"
   },
   "source": [
    "# Data Analysis\n",
    "\n"
   ]
  },
  {
   "cell_type": "code",
   "execution_count": null,
   "metadata": {
    "colab": {
     "base_uri": "https://localhost:8080/"
    },
    "executionInfo": {
     "elapsed": 7548,
     "status": "ok",
     "timestamp": 1757842371134,
     "user": {
      "displayName": "Harun ISTIK",
      "userId": "17649403543763452148"
     },
     "user_tz": -180
    },
    "id": "MdlfJKsmgxjh",
    "outputId": "edfacd1b-d560-46ef-b7f3-3c7c46378485"
   },
   "outputs": [],
   "source": [
    "import kagglehub\n",
    "\n",
    "path = kagglehub.dataset_download(\"jainaru/thyroid-disease-data\")\n",
    "\n",
    "print(\"Path to dataset files:\", path)"
   ]
  },
  {
   "cell_type": "code",
   "execution_count": 4,
   "metadata": {
    "executionInfo": {
     "elapsed": 8606,
     "status": "ok",
     "timestamp": 1757842379742,
     "user": {
      "displayName": "Harun ISTIK",
      "userId": "17649403543763452148"
     },
     "user_tz": -180
    },
    "id": "jELuFG3h6iXQ"
   },
   "outputs": [],
   "source": [
    "import pandas as pd\n",
    "import numpy as np\n",
    "import matplotlib.pyplot as plt\n",
    "import seaborn as sns"
   ]
  },
  {
   "cell_type": "code",
   "execution_count": 5,
   "metadata": {
    "executionInfo": {
     "elapsed": 19,
     "status": "ok",
     "timestamp": 1757843151143,
     "user": {
      "displayName": "Harun ISTIK",
      "userId": "17649403543763452148"
     },
     "user_tz": -180
    },
    "id": "V0Vd8xbW6X-x"
   },
   "outputs": [],
   "source": [
    "df = pd.read_csv(f\"{path}/Thyroid_Diff.csv\")"
   ]
  },
  {
   "cell_type": "code",
   "execution_count": 6,
   "metadata": {
    "colab": {
     "base_uri": "https://localhost:8080/",
     "height": 206
    },
    "executionInfo": {
     "elapsed": 359,
     "status": "ok",
     "timestamp": 1757842380158,
     "user": {
      "displayName": "Harun ISTIK",
      "userId": "17649403543763452148"
     },
     "user_tz": -180
    },
    "id": "gCNIEzEb6tOe",
    "outputId": "2a3c8485-c2b6-4326-9d19-d20e5b9c9e45"
   },
   "outputs": [
    {
     "data": {
      "text/html": [
       "<div>\n",
       "<style scoped>\n",
       "    .dataframe tbody tr th:only-of-type {\n",
       "        vertical-align: middle;\n",
       "    }\n",
       "\n",
       "    .dataframe tbody tr th {\n",
       "        vertical-align: top;\n",
       "    }\n",
       "\n",
       "    .dataframe thead th {\n",
       "        text-align: right;\n",
       "    }\n",
       "</style>\n",
       "<table border=\"1\" class=\"dataframe\">\n",
       "  <thead>\n",
       "    <tr style=\"text-align: right;\">\n",
       "      <th></th>\n",
       "      <th>Age</th>\n",
       "      <th>Gender</th>\n",
       "      <th>Smoking</th>\n",
       "      <th>Hx Smoking</th>\n",
       "      <th>Hx Radiothreapy</th>\n",
       "      <th>Thyroid Function</th>\n",
       "      <th>Physical Examination</th>\n",
       "      <th>Adenopathy</th>\n",
       "      <th>Pathology</th>\n",
       "      <th>Focality</th>\n",
       "      <th>Risk</th>\n",
       "      <th>T</th>\n",
       "      <th>N</th>\n",
       "      <th>M</th>\n",
       "      <th>Stage</th>\n",
       "      <th>Response</th>\n",
       "      <th>Recurred</th>\n",
       "    </tr>\n",
       "  </thead>\n",
       "  <tbody>\n",
       "    <tr>\n",
       "      <th>0</th>\n",
       "      <td>27</td>\n",
       "      <td>F</td>\n",
       "      <td>No</td>\n",
       "      <td>No</td>\n",
       "      <td>No</td>\n",
       "      <td>Euthyroid</td>\n",
       "      <td>Single nodular goiter-left</td>\n",
       "      <td>No</td>\n",
       "      <td>Micropapillary</td>\n",
       "      <td>Uni-Focal</td>\n",
       "      <td>Low</td>\n",
       "      <td>T1a</td>\n",
       "      <td>N0</td>\n",
       "      <td>M0</td>\n",
       "      <td>I</td>\n",
       "      <td>Indeterminate</td>\n",
       "      <td>No</td>\n",
       "    </tr>\n",
       "    <tr>\n",
       "      <th>1</th>\n",
       "      <td>34</td>\n",
       "      <td>F</td>\n",
       "      <td>No</td>\n",
       "      <td>Yes</td>\n",
       "      <td>No</td>\n",
       "      <td>Euthyroid</td>\n",
       "      <td>Multinodular goiter</td>\n",
       "      <td>No</td>\n",
       "      <td>Micropapillary</td>\n",
       "      <td>Uni-Focal</td>\n",
       "      <td>Low</td>\n",
       "      <td>T1a</td>\n",
       "      <td>N0</td>\n",
       "      <td>M0</td>\n",
       "      <td>I</td>\n",
       "      <td>Excellent</td>\n",
       "      <td>No</td>\n",
       "    </tr>\n",
       "    <tr>\n",
       "      <th>2</th>\n",
       "      <td>30</td>\n",
       "      <td>F</td>\n",
       "      <td>No</td>\n",
       "      <td>No</td>\n",
       "      <td>No</td>\n",
       "      <td>Euthyroid</td>\n",
       "      <td>Single nodular goiter-right</td>\n",
       "      <td>No</td>\n",
       "      <td>Micropapillary</td>\n",
       "      <td>Uni-Focal</td>\n",
       "      <td>Low</td>\n",
       "      <td>T1a</td>\n",
       "      <td>N0</td>\n",
       "      <td>M0</td>\n",
       "      <td>I</td>\n",
       "      <td>Excellent</td>\n",
       "      <td>No</td>\n",
       "    </tr>\n",
       "    <tr>\n",
       "      <th>3</th>\n",
       "      <td>62</td>\n",
       "      <td>F</td>\n",
       "      <td>No</td>\n",
       "      <td>No</td>\n",
       "      <td>No</td>\n",
       "      <td>Euthyroid</td>\n",
       "      <td>Single nodular goiter-right</td>\n",
       "      <td>No</td>\n",
       "      <td>Micropapillary</td>\n",
       "      <td>Uni-Focal</td>\n",
       "      <td>Low</td>\n",
       "      <td>T1a</td>\n",
       "      <td>N0</td>\n",
       "      <td>M0</td>\n",
       "      <td>I</td>\n",
       "      <td>Excellent</td>\n",
       "      <td>No</td>\n",
       "    </tr>\n",
       "    <tr>\n",
       "      <th>4</th>\n",
       "      <td>62</td>\n",
       "      <td>F</td>\n",
       "      <td>No</td>\n",
       "      <td>No</td>\n",
       "      <td>No</td>\n",
       "      <td>Euthyroid</td>\n",
       "      <td>Multinodular goiter</td>\n",
       "      <td>No</td>\n",
       "      <td>Micropapillary</td>\n",
       "      <td>Multi-Focal</td>\n",
       "      <td>Low</td>\n",
       "      <td>T1a</td>\n",
       "      <td>N0</td>\n",
       "      <td>M0</td>\n",
       "      <td>I</td>\n",
       "      <td>Excellent</td>\n",
       "      <td>No</td>\n",
       "    </tr>\n",
       "  </tbody>\n",
       "</table>\n",
       "</div>"
      ],
      "text/plain": [
       "   Age Gender Smoking Hx Smoking Hx Radiothreapy Thyroid Function  \\\n",
       "0   27      F      No         No              No        Euthyroid   \n",
       "1   34      F      No        Yes              No        Euthyroid   \n",
       "2   30      F      No         No              No        Euthyroid   \n",
       "3   62      F      No         No              No        Euthyroid   \n",
       "4   62      F      No         No              No        Euthyroid   \n",
       "\n",
       "          Physical Examination Adenopathy       Pathology     Focality Risk  \\\n",
       "0   Single nodular goiter-left         No  Micropapillary    Uni-Focal  Low   \n",
       "1          Multinodular goiter         No  Micropapillary    Uni-Focal  Low   \n",
       "2  Single nodular goiter-right         No  Micropapillary    Uni-Focal  Low   \n",
       "3  Single nodular goiter-right         No  Micropapillary    Uni-Focal  Low   \n",
       "4          Multinodular goiter         No  Micropapillary  Multi-Focal  Low   \n",
       "\n",
       "     T   N   M Stage       Response Recurred  \n",
       "0  T1a  N0  M0     I  Indeterminate       No  \n",
       "1  T1a  N0  M0     I      Excellent       No  \n",
       "2  T1a  N0  M0     I      Excellent       No  \n",
       "3  T1a  N0  M0     I      Excellent       No  \n",
       "4  T1a  N0  M0     I      Excellent       No  "
      ]
     },
     "execution_count": 6,
     "metadata": {},
     "output_type": "execute_result"
    }
   ],
   "source": [
    "df.head()"
   ]
  },
  {
   "cell_type": "code",
   "execution_count": 7,
   "metadata": {
    "colab": {
     "base_uri": "https://localhost:8080/"
    },
    "executionInfo": {
     "elapsed": 86,
     "status": "ok",
     "timestamp": 1757842380246,
     "user": {
      "displayName": "Harun ISTIK",
      "userId": "17649403543763452148"
     },
     "user_tz": -180
    },
    "id": "cjxruksH95wv",
    "outputId": "72ae1ed9-08da-4848-ee74-33b73e9b28f9"
   },
   "outputs": [
    {
     "name": "stdout",
     "output_type": "stream",
     "text": [
      "<class 'pandas.core.frame.DataFrame'>\n",
      "RangeIndex: 383 entries, 0 to 382\n",
      "Data columns (total 17 columns):\n",
      " #   Column                Non-Null Count  Dtype \n",
      "---  ------                --------------  ----- \n",
      " 0   Age                   383 non-null    int64 \n",
      " 1   Gender                383 non-null    object\n",
      " 2   Smoking               383 non-null    object\n",
      " 3   Hx Smoking            383 non-null    object\n",
      " 4   Hx Radiothreapy       383 non-null    object\n",
      " 5   Thyroid Function      383 non-null    object\n",
      " 6   Physical Examination  383 non-null    object\n",
      " 7   Adenopathy            383 non-null    object\n",
      " 8   Pathology             383 non-null    object\n",
      " 9   Focality              383 non-null    object\n",
      " 10  Risk                  383 non-null    object\n",
      " 11  T                     383 non-null    object\n",
      " 12  N                     383 non-null    object\n",
      " 13  M                     383 non-null    object\n",
      " 14  Stage                 383 non-null    object\n",
      " 15  Response              383 non-null    object\n",
      " 16  Recurred              383 non-null    object\n",
      "dtypes: int64(1), object(16)\n",
      "memory usage: 51.0+ KB\n"
     ]
    }
   ],
   "source": [
    "df.info()"
   ]
  },
  {
   "cell_type": "code",
   "execution_count": 8,
   "metadata": {
    "colab": {
     "base_uri": "https://localhost:8080/",
     "height": 617
    },
    "executionInfo": {
     "elapsed": 69,
     "status": "ok",
     "timestamp": 1757842380275,
     "user": {
      "displayName": "Harun ISTIK",
      "userId": "17649403543763452148"
     },
     "user_tz": -180
    },
    "id": "D6WUkdY2-UOi",
    "outputId": "4592bd53-990c-4f00-ae0f-5b50a371defa"
   },
   "outputs": [
    {
     "data": {
      "text/plain": [
       "Age                     0\n",
       "Gender                  0\n",
       "Smoking                 0\n",
       "Hx Smoking              0\n",
       "Hx Radiothreapy         0\n",
       "Thyroid Function        0\n",
       "Physical Examination    0\n",
       "Adenopathy              0\n",
       "Pathology               0\n",
       "Focality                0\n",
       "Risk                    0\n",
       "T                       0\n",
       "N                       0\n",
       "M                       0\n",
       "Stage                   0\n",
       "Response                0\n",
       "Recurred                0\n",
       "dtype: int64"
      ]
     },
     "execution_count": 8,
     "metadata": {},
     "output_type": "execute_result"
    }
   ],
   "source": [
    "df.isnull().sum()"
   ]
  },
  {
   "cell_type": "markdown",
   "metadata": {
    "id": "hZwEJCZqmST4"
   },
   "source": [
    "**Data Visualization**"
   ]
  },
  {
   "cell_type": "code",
   "execution_count": 9,
   "metadata": {
    "colab": {
     "base_uri": "https://localhost:8080/",
     "height": 410
    },
    "executionInfo": {
     "elapsed": 404,
     "status": "ok",
     "timestamp": 1757843179019,
     "user": {
      "displayName": "Harun ISTIK",
      "userId": "17649403543763452148"
     },
     "user_tz": -180
    },
    "id": "_NsS0yzamv9n",
    "outputId": "182ddf7c-19ab-47f6-9a4d-f8ee15bf65d3"
   },
   "outputs": [
    {
     "data": {
      "image/png": "[encoded data removed]",
      "text/plain": [
       "<Figure size 500x400 with 1 Axes>"
      ]
     },
     "metadata": {},
     "output_type": "display_data"
    }
   ],
   "source": [
    "# age\n",
    "plt.figure(figsize = (5, 4))\n",
    "sns.histplot(df['Age'], bins = 20, kde = True, color = 'skyblue', edgecolor = 'black')\n",
    "plt.title('Age Distribution')\n",
    "plt.xlabel('Age')\n",
    "plt.ylabel('Count')\n",
    "plt.show()"
   ]
  },
  {
   "cell_type": "code",
   "execution_count": 10,
   "metadata": {
    "colab": {
     "base_uri": "https://localhost:8080/",
     "height": 410
    },
    "executionInfo": {
     "elapsed": 336,
     "status": "ok",
     "timestamp": 1757843856704,
     "user": {
      "displayName": "Harun ISTIK",
      "userId": "17649403543763452148"
     },
     "user_tz": -180
    },
    "id": "xT3u-zjPnKeX",
    "outputId": "4dd76b39-9f87-4cd5-9b86-7926c95f0b1f"
   },
   "outputs": [
    {
     "data": {
      "image/png": "[encoded data removed]",
      "text/plain": [
       "<Figure size 500x400 with 1 Axes>"
      ]
     },
     "metadata": {},
     "output_type": "display_data"
    }
   ],
   "source": [
    "# gender\n",
    "plt.figure(figsize = (5, 4))\n",
    "sns.countplot(df, x = 'Gender')\n",
    "plt.title('Gender')\n",
    "plt.xlabel('Gender')\n",
    "plt.ylabel('Count')\n",
    "plt.show()"
   ]
  },
  {
   "cell_type": "code",
   "execution_count": 11,
   "metadata": {
    "colab": {
     "base_uri": "https://localhost:8080/",
     "height": 410
    },
    "executionInfo": {
     "elapsed": 358,
     "status": "ok",
     "timestamp": 1757843846251,
     "user": {
      "displayName": "Harun ISTIK",
      "userId": "17649403543763452148"
     },
     "user_tz": -180
    },
    "id": "J9w4asSQnpMt",
    "outputId": "a36d031e-fba8-453c-e9b2-48d2a1f190b8"
   },
   "outputs": [
    {
     "data": {
      "image/png": "[encoded data removed]",
      "text/plain": [
       "<Figure size 500x400 with 1 Axes>"
      ]
     },
     "metadata": {},
     "output_type": "display_data"
    }
   ],
   "source": [
    "# smoking status\n",
    "plt.figure(figsize = (5, 4))\n",
    "sns.countplot(df, x = 'Smoking')\n",
    "plt.title('Smoking Status')\n",
    "plt.xlabel('Smoking')\n",
    "plt.ylabel('Count')\n",
    "plt.show()"
   ]
  },
  {
   "cell_type": "code",
   "execution_count": 12,
   "metadata": {
    "colab": {
     "base_uri": "https://localhost:8080/",
     "height": 410
    },
    "executionInfo": {
     "elapsed": 462,
     "status": "ok",
     "timestamp": 1757843835866,
     "user": {
      "displayName": "Harun ISTIK",
      "userId": "17649403543763452148"
     },
     "user_tz": -180
    },
    "id": "hcbdsQi-p3lT",
    "outputId": "632115be-72ba-4ed8-cf6a-7567c08ceba8"
   },
   "outputs": [
    {
     "data": {
      "image/png": "[encoded data removed]",
      "text/plain": [
       "<Figure size 500x400 with 1 Axes>"
      ]
     },
     "metadata": {},
     "output_type": "display_data"
    }
   ],
   "source": [
    "# recurred\n",
    "plt.figure(figsize = (5, 4))\n",
    "sns.countplot(df, x = 'Recurred')\n",
    "plt.title('Recurred')\n",
    "plt.xlabel('Recurred')\n",
    "plt.ylabel('Count')\n",
    "plt.show()"
   ]
  },
  {
   "cell_type": "code",
   "execution_count": 13,
   "metadata": {
    "colab": {
     "base_uri": "https://localhost:8080/"
    },
    "executionInfo": {
     "elapsed": 30,
     "status": "ok",
     "timestamp": 1757842380308,
     "user": {
      "displayName": "Harun ISTIK",
      "userId": "17649403543763452148"
     },
     "user_tz": -180
    },
    "id": "w1hfxF1L-ZTt",
    "outputId": "90a2379e-4645-40ef-e3eb-5aec491c9746"
   },
   "outputs": [
    {
     "data": {
      "text/plain": [
       "array(['F', 'M'], dtype=object)"
      ]
     },
     "execution_count": 13,
     "metadata": {},
     "output_type": "execute_result"
    }
   ],
   "source": [
    "df[\"Gender\"].unique()"
   ]
  },
  {
   "cell_type": "code",
   "execution_count": 14,
   "metadata": {
    "executionInfo": {
     "elapsed": 574,
     "status": "ok",
     "timestamp": 1757842380884,
     "user": {
      "displayName": "Harun ISTIK",
      "userId": "17649403543763452148"
     },
     "user_tz": -180
    },
    "id": "nCqhD8RH-duD"
   },
   "outputs": [],
   "source": [
    "from sklearn.preprocessing import LabelEncoder\n",
    "\n",
    "l_encoder = LabelEncoder()\n",
    "df[\"Gender\"] = l_encoder.fit_transform(df[\"Gender\"])"
   ]
  },
  {
   "cell_type": "code",
   "execution_count": 15,
   "metadata": {
    "colab": {
     "base_uri": "https://localhost:8080/",
     "height": 178
    },
    "executionInfo": {
     "elapsed": 28,
     "status": "ok",
     "timestamp": 1757842380903,
     "user": {
      "displayName": "Harun ISTIK",
      "userId": "17649403543763452148"
     },
     "user_tz": -180
    },
    "id": "ANWSPzYqAlag",
    "outputId": "975bfb29-8257-45b5-c2c1-cbbd72e85ff3"
   },
   "outputs": [
    {
     "data": {
      "text/plain": [
       "Gender\n",
       "0    312\n",
       "1     71\n",
       "Name: count, dtype: int64"
      ]
     },
     "execution_count": 15,
     "metadata": {},
     "output_type": "execute_result"
    }
   ],
   "source": [
    "df[\"Gender\"].value_counts()\n",
    "# 0 for female, 1 for male"
   ]
  },
  {
   "cell_type": "code",
   "execution_count": 16,
   "metadata": {
    "executionInfo": {
     "elapsed": 24,
     "status": "ok",
     "timestamp": 1757842380905,
     "user": {
      "displayName": "Harun ISTIK",
      "userId": "17649403543763452148"
     },
     "user_tz": -180
    },
    "id": "eF8it47QAvUg"
   },
   "outputs": [],
   "source": [
    "df[\"Smoking\"] = l_encoder.fit_transform(df[\"Smoking\"])"
   ]
  },
  {
   "cell_type": "code",
   "execution_count": 17,
   "metadata": {
    "colab": {
     "base_uri": "https://localhost:8080/",
     "height": 178
    },
    "executionInfo": {
     "elapsed": 23,
     "status": "ok",
     "timestamp": 1757842380927,
     "user": {
      "displayName": "Harun ISTIK",
      "userId": "17649403543763452148"
     },
     "user_tz": -180
    },
    "id": "UX8CQLoyBMdI",
    "outputId": "e23d1fea-65d8-4301-ce85-fffa9bc6b35f"
   },
   "outputs": [
    {
     "data": {
      "text/plain": [
       "Smoking\n",
       "0    334\n",
       "1     49\n",
       "Name: count, dtype: int64"
      ]
     },
     "execution_count": 17,
     "metadata": {},
     "output_type": "execute_result"
    }
   ],
   "source": [
    "df[\"Smoking\"].value_counts()\n",
    "# 0 for true, 1 for false"
   ]
  },
  {
   "cell_type": "code",
   "execution_count": 18,
   "metadata": {
    "executionInfo": {
     "elapsed": 43,
     "status": "ok",
     "timestamp": 1757842380971,
     "user": {
      "displayName": "Harun ISTIK",
      "userId": "17649403543763452148"
     },
     "user_tz": -180
    },
    "id": "9tL8iuIdBPPU"
   },
   "outputs": [],
   "source": [
    "df[\"Hx Smoking\"] = l_encoder.fit_transform(df[\"Hx Smoking\"])"
   ]
  },
  {
   "cell_type": "code",
   "execution_count": 19,
   "metadata": {
    "colab": {
     "base_uri": "https://localhost:8080/",
     "height": 178
    },
    "executionInfo": {
     "elapsed": 5,
     "status": "ok",
     "timestamp": 1757842380979,
     "user": {
      "displayName": "Harun ISTIK",
      "userId": "17649403543763452148"
     },
     "user_tz": -180
    },
    "id": "lRoHoOoVBtXz",
    "outputId": "b0df9dfd-588e-4f4e-c766-48966249874a"
   },
   "outputs": [
    {
     "data": {
      "text/plain": [
       "Hx Smoking\n",
       "0    355\n",
       "1     28\n",
       "Name: count, dtype: int64"
      ]
     },
     "execution_count": 19,
     "metadata": {},
     "output_type": "execute_result"
    }
   ],
   "source": [
    "df[\"Hx Smoking\"].value_counts()\n",
    "# 0 for false, 1 for true"
   ]
  },
  {
   "cell_type": "code",
   "execution_count": 20,
   "metadata": {
    "executionInfo": {
     "elapsed": 3,
     "status": "ok",
     "timestamp": 1757842380984,
     "user": {
      "displayName": "Harun ISTIK",
      "userId": "17649403543763452148"
     },
     "user_tz": -180
    },
    "id": "b0tGyVwMB-CS"
   },
   "outputs": [],
   "source": [
    "df[\"Hx Radiothreapy\"] = l_encoder.fit_transform(df[\"Hx Radiothreapy\"])"
   ]
  },
  {
   "cell_type": "code",
   "execution_count": 21,
   "metadata": {
    "colab": {
     "base_uri": "https://localhost:8080/",
     "height": 178
    },
    "executionInfo": {
     "elapsed": 43,
     "status": "ok",
     "timestamp": 1757842381030,
     "user": {
      "displayName": "Harun ISTIK",
      "userId": "17649403543763452148"
     },
     "user_tz": -180
    },
    "id": "OHLZVcgICJWd",
    "outputId": "02dc509d-337f-4faa-82b6-02524b6bd096"
   },
   "outputs": [
    {
     "data": {
      "text/plain": [
       "Hx Radiothreapy\n",
       "0    376\n",
       "1      7\n",
       "Name: count, dtype: int64"
      ]
     },
     "execution_count": 21,
     "metadata": {},
     "output_type": "execute_result"
    }
   ],
   "source": [
    "df[\"Hx Radiothreapy\"].value_counts()\n",
    "# 0 for false, 1 for true"
   ]
  },
  {
   "cell_type": "code",
   "execution_count": 22,
   "metadata": {
    "colab": {
     "base_uri": "https://localhost:8080/",
     "height": 227
    },
    "executionInfo": {
     "elapsed": 180,
     "status": "ok",
     "timestamp": 1757842381207,
     "user": {
      "displayName": "Harun ISTIK",
      "userId": "17649403543763452148"
     },
     "user_tz": -180
    },
    "id": "SxBaBspRCMXG",
    "outputId": "90197ae3-a952-441e-867a-7e58eb4fd59c"
   },
   "outputs": [
    {
     "data": {
      "text/html": [
       "<div>\n",
       "<style scoped>\n",
       "    .dataframe tbody tr th:only-of-type {\n",
       "        vertical-align: middle;\n",
       "    }\n",
       "\n",
       "    .dataframe tbody tr th {\n",
       "        vertical-align: top;\n",
       "    }\n",
       "\n",
       "    .dataframe thead th {\n",
       "        text-align: right;\n",
       "    }\n",
       "</style>\n",
       "<table border=\"1\" class=\"dataframe\">\n",
       "  <thead>\n",
       "    <tr style=\"text-align: right;\">\n",
       "      <th></th>\n",
       "      <th>Age</th>\n",
       "      <th>Gender</th>\n",
       "      <th>Smoking</th>\n",
       "      <th>Hx Smoking</th>\n",
       "      <th>Hx Radiothreapy</th>\n",
       "      <th>Thyroid Function</th>\n",
       "      <th>Physical Examination</th>\n",
       "      <th>Adenopathy</th>\n",
       "      <th>Pathology</th>\n",
       "      <th>Focality</th>\n",
       "      <th>Risk</th>\n",
       "      <th>T</th>\n",
       "      <th>N</th>\n",
       "      <th>M</th>\n",
       "      <th>Stage</th>\n",
       "      <th>Response</th>\n",
       "      <th>Recurred</th>\n",
       "    </tr>\n",
       "  </thead>\n",
       "  <tbody>\n",
       "    <tr>\n",
       "      <th>46</th>\n",
       "      <td>31</td>\n",
       "      <td>0</td>\n",
       "      <td>0</td>\n",
       "      <td>0</td>\n",
       "      <td>0</td>\n",
       "      <td>Clinical Hypothyroidism</td>\n",
       "      <td>Multinodular goiter</td>\n",
       "      <td>No</td>\n",
       "      <td>Micropapillary</td>\n",
       "      <td>Uni-Focal</td>\n",
       "      <td>Intermediate</td>\n",
       "      <td>T1a</td>\n",
       "      <td>N0</td>\n",
       "      <td>M0</td>\n",
       "      <td>I</td>\n",
       "      <td>Excellent</td>\n",
       "      <td>No</td>\n",
       "    </tr>\n",
       "    <tr>\n",
       "      <th>370</th>\n",
       "      <td>78</td>\n",
       "      <td>1</td>\n",
       "      <td>1</td>\n",
       "      <td>1</td>\n",
       "      <td>1</td>\n",
       "      <td>Clinical Hyperthyroidism</td>\n",
       "      <td>Multinodular goiter</td>\n",
       "      <td>No</td>\n",
       "      <td>Follicular</td>\n",
       "      <td>Multi-Focal</td>\n",
       "      <td>High</td>\n",
       "      <td>T4a</td>\n",
       "      <td>N0</td>\n",
       "      <td>M1</td>\n",
       "      <td>IVB</td>\n",
       "      <td>Structural Incomplete</td>\n",
       "      <td>Yes</td>\n",
       "    </tr>\n",
       "    <tr>\n",
       "      <th>271</th>\n",
       "      <td>45</td>\n",
       "      <td>0</td>\n",
       "      <td>0</td>\n",
       "      <td>0</td>\n",
       "      <td>0</td>\n",
       "      <td>Euthyroid</td>\n",
       "      <td>Single nodular goiter-left</td>\n",
       "      <td>No</td>\n",
       "      <td>Papillary</td>\n",
       "      <td>Uni-Focal</td>\n",
       "      <td>Low</td>\n",
       "      <td>T3a</td>\n",
       "      <td>N0</td>\n",
       "      <td>M0</td>\n",
       "      <td>I</td>\n",
       "      <td>Excellent</td>\n",
       "      <td>No</td>\n",
       "    </tr>\n",
       "    <tr>\n",
       "      <th>286</th>\n",
       "      <td>58</td>\n",
       "      <td>0</td>\n",
       "      <td>0</td>\n",
       "      <td>0</td>\n",
       "      <td>0</td>\n",
       "      <td>Clinical Hyperthyroidism</td>\n",
       "      <td>Multinodular goiter</td>\n",
       "      <td>No</td>\n",
       "      <td>Follicular</td>\n",
       "      <td>Multi-Focal</td>\n",
       "      <td>Intermediate</td>\n",
       "      <td>T3a</td>\n",
       "      <td>N0</td>\n",
       "      <td>M0</td>\n",
       "      <td>II</td>\n",
       "      <td>Indeterminate</td>\n",
       "      <td>No</td>\n",
       "    </tr>\n",
       "  </tbody>\n",
       "</table>\n",
       "</div>"
      ],
      "text/plain": [
       "     Age  Gender  Smoking  Hx Smoking  Hx Radiothreapy  \\\n",
       "46    31       0        0           0                0   \n",
       "370   78       1        1           1                1   \n",
       "271   45       0        0           0                0   \n",
       "286   58       0        0           0                0   \n",
       "\n",
       "             Thyroid Function        Physical Examination Adenopathy  \\\n",
       "46    Clinical Hypothyroidism         Multinodular goiter         No   \n",
       "370  Clinical Hyperthyroidism         Multinodular goiter         No   \n",
       "271                 Euthyroid  Single nodular goiter-left         No   \n",
       "286  Clinical Hyperthyroidism         Multinodular goiter         No   \n",
       "\n",
       "          Pathology     Focality          Risk    T   N   M Stage  \\\n",
       "46   Micropapillary    Uni-Focal  Intermediate  T1a  N0  M0     I   \n",
       "370      Follicular  Multi-Focal          High  T4a  N0  M1   IVB   \n",
       "271       Papillary    Uni-Focal           Low  T3a  N0  M0     I   \n",
       "286      Follicular  Multi-Focal  Intermediate  T3a  N0  M0    II   \n",
       "\n",
       "                  Response Recurred  \n",
       "46               Excellent       No  \n",
       "370  Structural Incomplete      Yes  \n",
       "271              Excellent       No  \n",
       "286          Indeterminate       No  "
      ]
     },
     "execution_count": 22,
     "metadata": {},
     "output_type": "execute_result"
    }
   ],
   "source": [
    "df.sample(4)"
   ]
  },
  {
   "cell_type": "code",
   "execution_count": 23,
   "metadata": {
    "colab": {
     "base_uri": "https://localhost:8080/"
    },
    "executionInfo": {
     "elapsed": 6,
     "status": "ok",
     "timestamp": 1757842381223,
     "user": {
      "displayName": "Harun ISTIK",
      "userId": "17649403543763452148"
     },
     "user_tz": -180
    },
    "id": "W8iZgcGeCXiE",
    "outputId": "93f3044d-60c3-4ff3-bd11-2caeff53489f"
   },
   "outputs": [
    {
     "data": {
      "text/plain": [
       "array(['Euthyroid', 'Clinical Hyperthyroidism', 'Clinical Hypothyroidism',\n",
       "       'Subclinical Hyperthyroidism', 'Subclinical Hypothyroidism'],\n",
       "      dtype=object)"
      ]
     },
     "execution_count": 23,
     "metadata": {},
     "output_type": "execute_result"
    }
   ],
   "source": [
    "df[\"Thyroid Function\"].unique()"
   ]
  },
  {
   "cell_type": "code",
   "execution_count": 24,
   "metadata": {
    "colab": {
     "base_uri": "https://localhost:8080/",
     "height": 272
    },
    "executionInfo": {
     "elapsed": 58,
     "status": "ok",
     "timestamp": 1757842381283,
     "user": {
      "displayName": "Harun ISTIK",
      "userId": "17649403543763452148"
     },
     "user_tz": -180
    },
    "id": "O-vcxcDUCbzT",
    "outputId": "940b5f9d-ef68-45dd-feb4-f5cd06f793c5"
   },
   "outputs": [
    {
     "data": {
      "text/plain": [
       "Thyroid Function\n",
       "Euthyroid                      332\n",
       "Clinical Hyperthyroidism        20\n",
       "Subclinical Hypothyroidism      14\n",
       "Clinical Hypothyroidism         12\n",
       "Subclinical Hyperthyroidism      5\n",
       "Name: count, dtype: int64"
      ]
     },
     "execution_count": 24,
     "metadata": {},
     "output_type": "execute_result"
    }
   ],
   "source": [
    "df[\"Thyroid Function\"].value_counts()"
   ]
  },
  {
   "cell_type": "code",
   "execution_count": 25,
   "metadata": {
    "colab": {
     "base_uri": "https://localhost:8080/"
    },
    "executionInfo": {
     "elapsed": 32,
     "status": "ok",
     "timestamp": 1757842381284,
     "user": {
      "displayName": "Harun ISTIK",
      "userId": "17649403543763452148"
     },
     "user_tz": -180
    },
    "id": "9ckhiyfxCe9C",
    "outputId": "6fc74b94-53f8-4677-aaf7-3b2985ca5aa0"
   },
   "outputs": [
    {
     "data": {
      "text/plain": [
       "array(['Single nodular goiter-left', 'Multinodular goiter',\n",
       "       'Single nodular goiter-right', 'Normal', 'Diffuse goiter'],\n",
       "      dtype=object)"
      ]
     },
     "execution_count": 25,
     "metadata": {},
     "output_type": "execute_result"
    }
   ],
   "source": [
    "df[\"Physical Examination\"].unique()"
   ]
  },
  {
   "cell_type": "code",
   "execution_count": 26,
   "metadata": {
    "colab": {
     "base_uri": "https://localhost:8080/"
    },
    "executionInfo": {
     "elapsed": 10,
     "status": "ok",
     "timestamp": 1757842381284,
     "user": {
      "displayName": "Harun ISTIK",
      "userId": "17649403543763452148"
     },
     "user_tz": -180
    },
    "id": "GmA2JiC8Dm_Q",
    "outputId": "4877021d-833a-4ab5-e606-adeb7c855769"
   },
   "outputs": [
    {
     "data": {
      "text/plain": [
       "array(['Low', 'Intermediate', 'High'], dtype=object)"
      ]
     },
     "execution_count": 26,
     "metadata": {},
     "output_type": "execute_result"
    }
   ],
   "source": [
    "df[\"Risk\"].unique()"
   ]
  },
  {
   "cell_type": "code",
   "execution_count": 27,
   "metadata": {
    "executionInfo": {
     "elapsed": 4,
     "status": "ok",
     "timestamp": 1757842381285,
     "user": {
      "displayName": "Harun ISTIK",
      "userId": "17649403543763452148"
     },
     "user_tz": -180
    },
    "id": "9ovZB9dkEDRO"
   },
   "outputs": [],
   "source": [
    "from sklearn.preprocessing import OrdinalEncoder\n",
    "\n",
    "o_encoder = OrdinalEncoder(categories=[['Low', 'Intermediate', 'High']])\n",
    "df[\"Risk\"] = o_encoder.fit_transform(df[[\"Risk\"]])"
   ]
  },
  {
   "cell_type": "code",
   "execution_count": 28,
   "metadata": {
    "colab": {
     "base_uri": "https://localhost:8080/"
    },
    "executionInfo": {
     "elapsed": 7,
     "status": "ok",
     "timestamp": 1757842381312,
     "user": {
      "displayName": "Harun ISTIK",
      "userId": "17649403543763452148"
     },
     "user_tz": -180
    },
    "id": "5zUnwFRAE9OE",
    "outputId": "659f1fdb-faa4-4749-8fc1-d7f2f8c69a33"
   },
   "outputs": [
    {
     "data": {
      "text/plain": [
       "array([0., 1., 2.])"
      ]
     },
     "execution_count": 28,
     "metadata": {},
     "output_type": "execute_result"
    }
   ],
   "source": [
    "df[\"Risk\"].unique()"
   ]
  },
  {
   "cell_type": "code",
   "execution_count": 29,
   "metadata": {
    "colab": {
     "base_uri": "https://localhost:8080/"
    },
    "executionInfo": {
     "elapsed": 17,
     "status": "ok",
     "timestamp": 1757842381353,
     "user": {
      "displayName": "Harun ISTIK",
      "userId": "17649403543763452148"
     },
     "user_tz": -180
    },
    "id": "oaL6uNOfF2w7",
    "outputId": "dcfeff66-809a-41d6-8767-0a22decc6e92"
   },
   "outputs": [
    {
     "data": {
      "text/plain": [
       "array(['T1a', 'T1b', 'T2', 'T3a', 'T3b', 'T4a', 'T4b'], dtype=object)"
      ]
     },
     "execution_count": 29,
     "metadata": {},
     "output_type": "execute_result"
    }
   ],
   "source": [
    "df[\"T\"].unique()"
   ]
  },
  {
   "cell_type": "code",
   "execution_count": 30,
   "metadata": {
    "colab": {
     "base_uri": "https://localhost:8080/"
    },
    "executionInfo": {
     "elapsed": 30,
     "status": "ok",
     "timestamp": 1757842381383,
     "user": {
      "displayName": "Harun ISTIK",
      "userId": "17649403543763452148"
     },
     "user_tz": -180
    },
    "id": "9cZikOsgGk8v",
    "outputId": "2be70757-ed43-46d1-9385-e56b8acfd1a4"
   },
   "outputs": [
    {
     "data": {
      "text/plain": [
       "array(['N0', 'N1b', 'N1a'], dtype=object)"
      ]
     },
     "execution_count": 30,
     "metadata": {},
     "output_type": "execute_result"
    }
   ],
   "source": [
    "df[\"N\"].unique()"
   ]
  },
  {
   "cell_type": "code",
   "execution_count": 31,
   "metadata": {
    "colab": {
     "base_uri": "https://localhost:8080/"
    },
    "executionInfo": {
     "elapsed": 27,
     "status": "ok",
     "timestamp": 1757842381408,
     "user": {
      "displayName": "Harun ISTIK",
      "userId": "17649403543763452148"
     },
     "user_tz": -180
    },
    "id": "I7lSu5umHJcc",
    "outputId": "3205d42c-d81d-4092-8f88-083add5d0fc5"
   },
   "outputs": [
    {
     "data": {
      "text/plain": [
       "array(['M0', 'M1'], dtype=object)"
      ]
     },
     "execution_count": 31,
     "metadata": {},
     "output_type": "execute_result"
    }
   ],
   "source": [
    "df[\"M\"].unique()"
   ]
  },
  {
   "cell_type": "code",
   "execution_count": 32,
   "metadata": {
    "executionInfo": {
     "elapsed": 21,
     "status": "ok",
     "timestamp": 1757842381454,
     "user": {
      "displayName": "Harun ISTIK",
      "userId": "17649403543763452148"
     },
     "user_tz": -180
    },
    "id": "FD1mGTMjHOge"
   },
   "outputs": [],
   "source": [
    "df[\"M\"] = l_encoder.fit_transform(df[\"M\"])"
   ]
  },
  {
   "cell_type": "code",
   "execution_count": 33,
   "metadata": {
    "colab": {
     "base_uri": "https://localhost:8080/",
     "height": 178
    },
    "executionInfo": {
     "elapsed": 59,
     "status": "ok",
     "timestamp": 1757842381511,
     "user": {
      "displayName": "Harun ISTIK",
      "userId": "17649403543763452148"
     },
     "user_tz": -180
    },
    "id": "Jk2rd6T8HtNN",
    "outputId": "373fd9ef-0027-416b-94f8-4d05e9a59fce"
   },
   "outputs": [
    {
     "data": {
      "text/plain": [
       "M\n",
       "0    365\n",
       "1     18\n",
       "Name: count, dtype: int64"
      ]
     },
     "execution_count": 33,
     "metadata": {},
     "output_type": "execute_result"
    }
   ],
   "source": [
    "df[\"M\"].value_counts()\n",
    "# 0 for MO, 1 for M1"
   ]
  },
  {
   "cell_type": "code",
   "execution_count": 34,
   "metadata": {
    "executionInfo": {
     "elapsed": 37,
     "status": "ok",
     "timestamp": 1757842381529,
     "user": {
      "displayName": "Harun ISTIK",
      "userId": "17649403543763452148"
     },
     "user_tz": -180
    },
    "id": "eNcCWeKVHvoJ"
   },
   "outputs": [],
   "source": [
    "o2_encoder = OrdinalEncoder(categories=[['T1a', 'T1b', 'T2', 'T3a', 'T3b', 'T4a', 'T4b']])\n",
    "df[\"T\"] = o2_encoder.fit_transform(df[[\"T\"]])"
   ]
  },
  {
   "cell_type": "code",
   "execution_count": 35,
   "metadata": {
    "colab": {
     "base_uri": "https://localhost:8080/"
    },
    "executionInfo": {
     "elapsed": 26,
     "status": "ok",
     "timestamp": 1757842381554,
     "user": {
      "displayName": "Harun ISTIK",
      "userId": "17649403543763452148"
     },
     "user_tz": -180
    },
    "id": "MBgGCZP2JOJj",
    "outputId": "6b29b624-425d-4938-f165-e5ea5eba98f6"
   },
   "outputs": [
    {
     "data": {
      "text/plain": [
       "array([0., 1., 2., 3., 4., 5., 6.])"
      ]
     },
     "execution_count": 35,
     "metadata": {},
     "output_type": "execute_result"
    }
   ],
   "source": [
    "df[\"T\"].unique()"
   ]
  },
  {
   "cell_type": "code",
   "execution_count": 36,
   "metadata": {
    "executionInfo": {
     "elapsed": 51,
     "status": "ok",
     "timestamp": 1757842381603,
     "user": {
      "displayName": "Harun ISTIK",
      "userId": "17649403543763452148"
     },
     "user_tz": -180
    },
    "id": "6DG3veBGJR71"
   },
   "outputs": [],
   "source": [
    "o3_encoder = OrdinalEncoder(categories=[['N0', 'N1b', 'N1a']])\n",
    "df[\"N\"] = o3_encoder.fit_transform(df[[\"N\"]])"
   ]
  },
  {
   "cell_type": "code",
   "execution_count": 37,
   "metadata": {
    "colab": {
     "base_uri": "https://localhost:8080/",
     "height": 210
    },
    "executionInfo": {
     "elapsed": 42,
     "status": "ok",
     "timestamp": 1757842381641,
     "user": {
      "displayName": "Harun ISTIK",
      "userId": "17649403543763452148"
     },
     "user_tz": -180
    },
    "id": "mByVFwDOKyLG",
    "outputId": "25c6f7ea-0730-48d2-f1d5-13489f115bcf"
   },
   "outputs": [
    {
     "data": {
      "text/plain": [
       "N\n",
       "0.0    268\n",
       "1.0     93\n",
       "2.0     22\n",
       "Name: count, dtype: int64"
      ]
     },
     "execution_count": 37,
     "metadata": {},
     "output_type": "execute_result"
    }
   ],
   "source": [
    "df[\"N\"].value_counts()"
   ]
  },
  {
   "cell_type": "code",
   "execution_count": 38,
   "metadata": {
    "colab": {
     "base_uri": "https://localhost:8080/"
    },
    "executionInfo": {
     "elapsed": 8,
     "status": "ok",
     "timestamp": 1757842381693,
     "user": {
      "displayName": "Harun ISTIK",
      "userId": "17649403543763452148"
     },
     "user_tz": -180
    },
    "id": "cdLu5DiaK5WI",
    "outputId": "23625924-d708-4b84-ba2f-32eeb1569298"
   },
   "outputs": [
    {
     "data": {
      "text/plain": [
       "array(['I', 'II', 'IVB', 'III', 'IVA'], dtype=object)"
      ]
     },
     "execution_count": 38,
     "metadata": {},
     "output_type": "execute_result"
    }
   ],
   "source": [
    "df[\"Stage\"].unique()"
   ]
  },
  {
   "cell_type": "code",
   "execution_count": 39,
   "metadata": {
    "executionInfo": {
     "elapsed": 21,
     "status": "ok",
     "timestamp": 1757842381712,
     "user": {
      "displayName": "Harun ISTIK",
      "userId": "17649403543763452148"
     },
     "user_tz": -180
    },
    "id": "wqFLUJXnLQqM"
   },
   "outputs": [],
   "source": [
    "o4_encoder = OrdinalEncoder(categories=[['I', 'II', 'III', 'IVA', 'IVB']])\n",
    "df[\"Stage\"] = o4_encoder.fit_transform(df[[\"Stage\"]])"
   ]
  },
  {
   "cell_type": "code",
   "execution_count": 40,
   "metadata": {
    "colab": {
     "base_uri": "https://localhost:8080/",
     "height": 272
    },
    "executionInfo": {
     "elapsed": 37,
     "status": "ok",
     "timestamp": 1757842381748,
     "user": {
      "displayName": "Harun ISTIK",
      "userId": "17649403543763452148"
     },
     "user_tz": -180
    },
    "id": "l9AP-uXXNKow",
    "outputId": "580d2c3e-9519-41b9-9031-ca345c7fe1f5"
   },
   "outputs": [
    {
     "data": {
      "text/plain": [
       "Stage\n",
       "0.0    333\n",
       "1.0     32\n",
       "4.0     11\n",
       "2.0      4\n",
       "3.0      3\n",
       "Name: count, dtype: int64"
      ]
     },
     "execution_count": 40,
     "metadata": {},
     "output_type": "execute_result"
    }
   ],
   "source": [
    "df[\"Stage\"].value_counts()"
   ]
  },
  {
   "cell_type": "code",
   "execution_count": 41,
   "metadata": {
    "colab": {
     "base_uri": "https://localhost:8080/",
     "height": 143
    },
    "executionInfo": {
     "elapsed": 235,
     "status": "ok",
     "timestamp": 1757842381975,
     "user": {
      "displayName": "Harun ISTIK",
      "userId": "17649403543763452148"
     },
     "user_tz": -180
    },
    "id": "hkUX2hykNP5i",
    "outputId": "d302bee7-f322-47e9-d87a-95c2526e0ecd"
   },
   "outputs": [
    {
     "data": {
      "text/html": [
       "<div>\n",
       "<style scoped>\n",
       "    .dataframe tbody tr th:only-of-type {\n",
       "        vertical-align: middle;\n",
       "    }\n",
       "\n",
       "    .dataframe tbody tr th {\n",
       "        vertical-align: top;\n",
       "    }\n",
       "\n",
       "    .dataframe thead th {\n",
       "        text-align: right;\n",
       "    }\n",
       "</style>\n",
       "<table border=\"1\" class=\"dataframe\">\n",
       "  <thead>\n",
       "    <tr style=\"text-align: right;\">\n",
       "      <th></th>\n",
       "      <th>Age</th>\n",
       "      <th>Gender</th>\n",
       "      <th>Smoking</th>\n",
       "      <th>Hx Smoking</th>\n",
       "      <th>Hx Radiothreapy</th>\n",
       "      <th>Thyroid Function</th>\n",
       "      <th>Physical Examination</th>\n",
       "      <th>Adenopathy</th>\n",
       "      <th>Pathology</th>\n",
       "      <th>Focality</th>\n",
       "      <th>Risk</th>\n",
       "      <th>T</th>\n",
       "      <th>N</th>\n",
       "      <th>M</th>\n",
       "      <th>Stage</th>\n",
       "      <th>Response</th>\n",
       "      <th>Recurred</th>\n",
       "    </tr>\n",
       "  </thead>\n",
       "  <tbody>\n",
       "    <tr>\n",
       "      <th>109</th>\n",
       "      <td>60</td>\n",
       "      <td>0</td>\n",
       "      <td>0</td>\n",
       "      <td>0</td>\n",
       "      <td>0</td>\n",
       "      <td>Euthyroid</td>\n",
       "      <td>Single nodular goiter-right</td>\n",
       "      <td>No</td>\n",
       "      <td>Papillary</td>\n",
       "      <td>Uni-Focal</td>\n",
       "      <td>0.0</td>\n",
       "      <td>2.0</td>\n",
       "      <td>0.0</td>\n",
       "      <td>0</td>\n",
       "      <td>0.0</td>\n",
       "      <td>Biochemical Incomplete</td>\n",
       "      <td>No</td>\n",
       "    </tr>\n",
       "    <tr>\n",
       "      <th>274</th>\n",
       "      <td>28</td>\n",
       "      <td>1</td>\n",
       "      <td>1</td>\n",
       "      <td>0</td>\n",
       "      <td>0</td>\n",
       "      <td>Euthyroid</td>\n",
       "      <td>Single nodular goiter-left</td>\n",
       "      <td>No</td>\n",
       "      <td>Papillary</td>\n",
       "      <td>Uni-Focal</td>\n",
       "      <td>0.0</td>\n",
       "      <td>3.0</td>\n",
       "      <td>0.0</td>\n",
       "      <td>0</td>\n",
       "      <td>0.0</td>\n",
       "      <td>Indeterminate</td>\n",
       "      <td>No</td>\n",
       "    </tr>\n",
       "    <tr>\n",
       "      <th>166</th>\n",
       "      <td>31</td>\n",
       "      <td>0</td>\n",
       "      <td>0</td>\n",
       "      <td>0</td>\n",
       "      <td>0</td>\n",
       "      <td>Euthyroid</td>\n",
       "      <td>Single nodular goiter-right</td>\n",
       "      <td>No</td>\n",
       "      <td>Papillary</td>\n",
       "      <td>Uni-Focal</td>\n",
       "      <td>0.0</td>\n",
       "      <td>2.0</td>\n",
       "      <td>0.0</td>\n",
       "      <td>0</td>\n",
       "      <td>0.0</td>\n",
       "      <td>Excellent</td>\n",
       "      <td>No</td>\n",
       "    </tr>\n",
       "  </tbody>\n",
       "</table>\n",
       "</div>"
      ],
      "text/plain": [
       "     Age  Gender  Smoking  Hx Smoking  Hx Radiothreapy Thyroid Function  \\\n",
       "109   60       0        0           0                0        Euthyroid   \n",
       "274   28       1        1           0                0        Euthyroid   \n",
       "166   31       0        0           0                0        Euthyroid   \n",
       "\n",
       "            Physical Examination Adenopathy  Pathology   Focality  Risk    T  \\\n",
       "109  Single nodular goiter-right         No  Papillary  Uni-Focal   0.0  2.0   \n",
       "274   Single nodular goiter-left         No  Papillary  Uni-Focal   0.0  3.0   \n",
       "166  Single nodular goiter-right         No  Papillary  Uni-Focal   0.0  2.0   \n",
       "\n",
       "       N  M  Stage                Response Recurred  \n",
       "109  0.0  0    0.0  Biochemical Incomplete       No  \n",
       "274  0.0  0    0.0           Indeterminate       No  \n",
       "166  0.0  0    0.0               Excellent       No  "
      ]
     },
     "execution_count": 41,
     "metadata": {},
     "output_type": "execute_result"
    }
   ],
   "source": [
    "df.sample(3)"
   ]
  },
  {
   "cell_type": "code",
   "execution_count": 42,
   "metadata": {
    "colab": {
     "base_uri": "https://localhost:8080/"
    },
    "executionInfo": {
     "elapsed": 23,
     "status": "ok",
     "timestamp": 1757842382001,
     "user": {
      "displayName": "Harun ISTIK",
      "userId": "17649403543763452148"
     },
     "user_tz": -180
    },
    "id": "7DU9XlUYNaXK",
    "outputId": "ac8cc0f2-d4fc-420a-f465-bf7cf989c0de"
   },
   "outputs": [
    {
     "data": {
      "text/plain": [
       "array(['Indeterminate', 'Excellent', 'Structural Incomplete',\n",
       "       'Biochemical Incomplete'], dtype=object)"
      ]
     },
     "execution_count": 42,
     "metadata": {},
     "output_type": "execute_result"
    }
   ],
   "source": [
    "df[\"Response\"].unique()"
   ]
  },
  {
   "cell_type": "code",
   "execution_count": 43,
   "metadata": {
    "colab": {
     "base_uri": "https://localhost:8080/"
    },
    "executionInfo": {
     "elapsed": 8,
     "status": "ok",
     "timestamp": 1757842382011,
     "user": {
      "displayName": "Harun ISTIK",
      "userId": "17649403543763452148"
     },
     "user_tz": -180
    },
    "id": "5eX-70r7Nlwt",
    "outputId": "4d8833a0-554c-43e2-c04e-9271ee21e883"
   },
   "outputs": [
    {
     "data": {
      "text/plain": [
       "array(['No', 'Yes'], dtype=object)"
      ]
     },
     "execution_count": 43,
     "metadata": {},
     "output_type": "execute_result"
    }
   ],
   "source": [
    "df[\"Recurred\"].unique()"
   ]
  },
  {
   "cell_type": "code",
   "execution_count": 44,
   "metadata": {
    "executionInfo": {
     "elapsed": 20,
     "status": "ok",
     "timestamp": 1757842382032,
     "user": {
      "displayName": "Harun ISTIK",
      "userId": "17649403543763452148"
     },
     "user_tz": -180
    },
    "id": "3WbxOdv_Ootq"
   },
   "outputs": [],
   "source": [
    "df[\"Recurred\"] = l_encoder.fit_transform(df[\"Recurred\"])"
   ]
  },
  {
   "cell_type": "code",
   "execution_count": 45,
   "metadata": {
    "colab": {
     "base_uri": "https://localhost:8080/",
     "height": 178
    },
    "executionInfo": {
     "elapsed": 27,
     "status": "ok",
     "timestamp": 1757842382061,
     "user": {
      "displayName": "Harun ISTIK",
      "userId": "17649403543763452148"
     },
     "user_tz": -180
    },
    "id": "FW7f2GC5OyEg",
    "outputId": "cd256569-3820-4d05-f3a8-d6ae7db6eff0"
   },
   "outputs": [
    {
     "data": {
      "text/plain": [
       "Recurred\n",
       "0    275\n",
       "1    108\n",
       "Name: count, dtype: int64"
      ]
     },
     "execution_count": 45,
     "metadata": {},
     "output_type": "execute_result"
    }
   ],
   "source": [
    "df[\"Recurred\"].value_counts()\n",
    "# 0 for false, 1 for true"
   ]
  },
  {
   "cell_type": "code",
   "execution_count": 46,
   "metadata": {
    "colab": {
     "base_uri": "https://localhost:8080/"
    },
    "executionInfo": {
     "elapsed": 33,
     "status": "ok",
     "timestamp": 1757842382243,
     "user": {
      "displayName": "Harun ISTIK",
      "userId": "17649403543763452148"
     },
     "user_tz": -180
    },
    "id": "DDc6Dx5AA6z2",
    "outputId": "dd68d2a8-120e-4ecc-899b-0091c1ae55e1"
   },
   "outputs": [
    {
     "data": {
      "text/plain": [
       "array(['Euthyroid', 'Clinical Hyperthyroidism', 'Clinical Hypothyroidism',\n",
       "       'Subclinical Hyperthyroidism', 'Subclinical Hypothyroidism'],\n",
       "      dtype=object)"
      ]
     },
     "execution_count": 46,
     "metadata": {},
     "output_type": "execute_result"
    }
   ],
   "source": [
    "df[\"Thyroid Function\"].unique()"
   ]
  },
  {
   "cell_type": "code",
   "execution_count": 47,
   "metadata": {
    "colab": {
     "base_uri": "https://localhost:8080/",
     "height": 272
    },
    "executionInfo": {
     "elapsed": 34,
     "status": "ok",
     "timestamp": 1757842382278,
     "user": {
      "displayName": "Harun ISTIK",
      "userId": "17649403543763452148"
     },
     "user_tz": -180
    },
    "id": "FfPCU1LJCCJI",
    "outputId": "9ebe652c-8cd4-443a-8213-cba9ef2a7c33"
   },
   "outputs": [
    {
     "data": {
      "text/plain": [
       "Thyroid Function\n",
       "Euthyroid                      332\n",
       "Clinical Hyperthyroidism        20\n",
       "Subclinical Hypothyroidism      14\n",
       "Clinical Hypothyroidism         12\n",
       "Subclinical Hyperthyroidism      5\n",
       "Name: count, dtype: int64"
      ]
     },
     "execution_count": 47,
     "metadata": {},
     "output_type": "execute_result"
    }
   ],
   "source": [
    "df[\"Thyroid Function\"].value_counts()"
   ]
  },
  {
   "cell_type": "code",
   "execution_count": 48,
   "metadata": {
    "executionInfo": {
     "elapsed": 2,
     "status": "ok",
     "timestamp": 1757842382281,
     "user": {
      "displayName": "Harun ISTIK",
      "userId": "17649403543763452148"
     },
     "user_tz": -180
    },
    "id": "1nCbs0s3C01g"
   },
   "outputs": [],
   "source": [
    "o5_encoder = OrdinalEncoder(categories=[[\"Euthyroid\", \"Subclinical Hypothyroidism\", \"Clinical Hypothyroidism\", \"Subclinical Hyperthyroidism\", \"Clinical Hyperthyroidism\"]])\n",
    "df[\"Thyroid Function\"] = o5_encoder.fit_transform(df[[\"Thyroid Function\"]])"
   ]
  },
  {
   "cell_type": "code",
   "execution_count": 49,
   "metadata": {
    "colab": {
     "base_uri": "https://localhost:8080/"
    },
    "executionInfo": {
     "elapsed": 8,
     "status": "ok",
     "timestamp": 1757842382292,
     "user": {
      "displayName": "Harun ISTIK",
      "userId": "17649403543763452148"
     },
     "user_tz": -180
    },
    "id": "N4VpEHTDEK6k",
    "outputId": "c9545da0-75eb-4914-fb96-4de9d0780c12"
   },
   "outputs": [
    {
     "data": {
      "text/plain": [
       "array(['Single nodular goiter-left', 'Multinodular goiter',\n",
       "       'Single nodular goiter-right', 'Normal', 'Diffuse goiter'],\n",
       "      dtype=object)"
      ]
     },
     "execution_count": 49,
     "metadata": {},
     "output_type": "execute_result"
    }
   ],
   "source": [
    "df[\"Physical Examination\"].unique()"
   ]
  },
  {
   "cell_type": "code",
   "execution_count": 50,
   "metadata": {
    "executionInfo": {
     "elapsed": 40,
     "status": "ok",
     "timestamp": 1757842382349,
     "user": {
      "displayName": "Harun ISTIK",
      "userId": "17649403543763452148"
     },
     "user_tz": -180
    },
    "id": "v0rwZt-mEQjF"
   },
   "outputs": [],
   "source": [
    "df[\"Physical Examination\"] = df[\"Physical Examination\"].replace({\n",
    "    'Single nodular goiter-left': 'Single nodular goiter',\n",
    "    'Single nodular goiter-right': 'Single nodular goiter'\n",
    "})"
   ]
  },
  {
   "cell_type": "code",
   "execution_count": 51,
   "metadata": {
    "colab": {
     "base_uri": "https://localhost:8080/"
    },
    "executionInfo": {
     "elapsed": 45,
     "status": "ok",
     "timestamp": 1757842382397,
     "user": {
      "displayName": "Harun ISTIK",
      "userId": "17649403543763452148"
     },
     "user_tz": -180
    },
    "id": "0jGFXffYFY6w",
    "outputId": "24e4a852-1709-4f59-8002-6f19959d0f96"
   },
   "outputs": [
    {
     "data": {
      "text/plain": [
       "array(['Single nodular goiter', 'Multinodular goiter', 'Normal',\n",
       "       'Diffuse goiter'], dtype=object)"
      ]
     },
     "execution_count": 51,
     "metadata": {},
     "output_type": "execute_result"
    }
   ],
   "source": [
    "df[\"Physical Examination\"].unique()"
   ]
  },
  {
   "cell_type": "code",
   "execution_count": 52,
   "metadata": {
    "executionInfo": {
     "elapsed": 8,
     "status": "ok",
     "timestamp": 1757842382397,
     "user": {
      "displayName": "Harun ISTIK",
      "userId": "17649403543763452148"
     },
     "user_tz": -180
    },
    "id": "sObpEQVHFbNo"
   },
   "outputs": [],
   "source": [
    "o6_encoder = OrdinalEncoder(categories=[[\"Normal\", \"Diffuse goiter\", \"Single nodular goiter\", \"Multinodular goiter\"]])\n",
    "df[\"Physical Examination\"] = o6_encoder.fit_transform(df[[\"Physical Examination\"]])"
   ]
  },
  {
   "cell_type": "code",
   "execution_count": 53,
   "metadata": {
    "colab": {
     "base_uri": "https://localhost:8080/"
    },
    "executionInfo": {
     "elapsed": 9,
     "status": "ok",
     "timestamp": 1757842382400,
     "user": {
      "displayName": "Harun ISTIK",
      "userId": "17649403543763452148"
     },
     "user_tz": -180
    },
    "id": "Da1jxkgvF5TV",
    "outputId": "647d65aa-42fa-4b4f-9dc8-135751b949b8"
   },
   "outputs": [
    {
     "data": {
      "text/plain": [
       "array([2., 3., 0., 1.])"
      ]
     },
     "execution_count": 53,
     "metadata": {},
     "output_type": "execute_result"
    }
   ],
   "source": [
    "df[\"Physical Examination\"].unique()"
   ]
  },
  {
   "cell_type": "code",
   "execution_count": 54,
   "metadata": {
    "colab": {
     "base_uri": "https://localhost:8080/"
    },
    "executionInfo": {
     "elapsed": 15,
     "status": "ok",
     "timestamp": 1757842382528,
     "user": {
      "displayName": "Harun ISTIK",
      "userId": "17649403543763452148"
     },
     "user_tz": -180
    },
    "id": "mE9OZVlfGDU4",
    "outputId": "a27fb5ba-dd61-43f7-ee65-1d5c6968ccd7"
   },
   "outputs": [
    {
     "data": {
      "text/plain": [
       "array(['Uni-Focal', 'Multi-Focal'], dtype=object)"
      ]
     },
     "execution_count": 54,
     "metadata": {},
     "output_type": "execute_result"
    }
   ],
   "source": [
    "df[\"Focality\"].unique()"
   ]
  },
  {
   "cell_type": "code",
   "execution_count": 55,
   "metadata": {
    "executionInfo": {
     "elapsed": 40,
     "status": "ok",
     "timestamp": 1757842382566,
     "user": {
      "displayName": "Harun ISTIK",
      "userId": "17649403543763452148"
     },
     "user_tz": -180
    },
    "id": "0hXNUxE_GLGr"
   },
   "outputs": [],
   "source": [
    "df[\"Focality\"] = l_encoder.fit_transform(df[\"Focality\"])"
   ]
  },
  {
   "cell_type": "code",
   "execution_count": 56,
   "metadata": {
    "colab": {
     "base_uri": "https://localhost:8080/",
     "height": 178
    },
    "executionInfo": {
     "elapsed": 5,
     "status": "ok",
     "timestamp": 1757842382569,
     "user": {
      "displayName": "Harun ISTIK",
      "userId": "17649403543763452148"
     },
     "user_tz": -180
    },
    "id": "v60iIyPQGofc",
    "outputId": "90f979a6-ed50-48ee-e033-533e2b2cd6b2"
   },
   "outputs": [
    {
     "data": {
      "text/plain": [
       "Focality\n",
       "1    247\n",
       "0    136\n",
       "Name: count, dtype: int64"
      ]
     },
     "execution_count": 56,
     "metadata": {},
     "output_type": "execute_result"
    }
   ],
   "source": [
    "df[\"Focality\"].value_counts()\n",
    "# 1 for Uni-Focal, 0 fro Multi-Focal"
   ]
  },
  {
   "cell_type": "code",
   "execution_count": 57,
   "metadata": {
    "colab": {
     "base_uri": "https://localhost:8080/"
    },
    "executionInfo": {
     "elapsed": 55,
     "status": "ok",
     "timestamp": 1757842382625,
     "user": {
      "displayName": "Harun ISTIK",
      "userId": "17649403543763452148"
     },
     "user_tz": -180
    },
    "id": "H75LsBdPGqUZ",
    "outputId": "b47e9da2-4fc6-4875-edcb-2a6c2dc68892"
   },
   "outputs": [
    {
     "data": {
      "text/plain": [
       "array(['No', 'Right', 'Extensive', 'Left', 'Bilateral', 'Posterior'],\n",
       "      dtype=object)"
      ]
     },
     "execution_count": 57,
     "metadata": {},
     "output_type": "execute_result"
    }
   ],
   "source": [
    "df[\"Adenopathy\"].unique()"
   ]
  },
  {
   "cell_type": "code",
   "execution_count": 58,
   "metadata": {
    "executionInfo": {
     "elapsed": 2,
     "status": "ok",
     "timestamp": 1757842382628,
     "user": {
      "displayName": "Harun ISTIK",
      "userId": "17649403543763452148"
     },
     "user_tz": -180
    },
    "id": "DM1gHGLZHFKy"
   },
   "outputs": [],
   "source": [
    "df = pd.get_dummies(df, columns=[\"Adenopathy\"])"
   ]
  },
  {
   "cell_type": "code",
   "execution_count": 59,
   "metadata": {
    "colab": {
     "base_uri": "https://localhost:8080/"
    },
    "executionInfo": {
     "elapsed": 5,
     "status": "ok",
     "timestamp": 1757842382748,
     "user": {
      "displayName": "Harun ISTIK",
      "userId": "17649403543763452148"
     },
     "user_tz": -180
    },
    "id": "7WjpAtqKJKQz",
    "outputId": "4b745a81-a705-4f7a-e6bc-eddc20764086"
   },
   "outputs": [
    {
     "data": {
      "text/plain": [
       "array(['Micropapillary', 'Papillary', 'Follicular', 'Hurthel cell'],\n",
       "      dtype=object)"
      ]
     },
     "execution_count": 59,
     "metadata": {},
     "output_type": "execute_result"
    }
   ],
   "source": [
    "df[\"Pathology\"].unique()"
   ]
  },
  {
   "cell_type": "code",
   "execution_count": 60,
   "metadata": {
    "executionInfo": {
     "elapsed": 23,
     "status": "ok",
     "timestamp": 1757842382784,
     "user": {
      "displayName": "Harun ISTIK",
      "userId": "17649403543763452148"
     },
     "user_tz": -180
    },
    "id": "4EgQzEP1Ji96"
   },
   "outputs": [],
   "source": [
    "df = pd.get_dummies(df, columns=[\"Pathology\"])"
   ]
  },
  {
   "cell_type": "code",
   "execution_count": 61,
   "metadata": {
    "executionInfo": {
     "elapsed": 4,
     "status": "ok",
     "timestamp": 1757842382867,
     "user": {
      "displayName": "Harun ISTIK",
      "userId": "17649403543763452148"
     },
     "user_tz": -180
    },
    "id": "fpTx5_GrKUdq"
   },
   "outputs": [],
   "source": [
    "df = pd.get_dummies(df, columns=[\"Response\"])"
   ]
  },
  {
   "cell_type": "code",
   "execution_count": 62,
   "metadata": {
    "executionInfo": {
     "elapsed": 35,
     "status": "ok",
     "timestamp": 1757842382988,
     "user": {
      "displayName": "Harun ISTIK",
      "userId": "17649403543763452148"
     },
     "user_tz": -180
    },
    "id": "2OCRtXVaLMDC"
   },
   "outputs": [],
   "source": [
    "X = df.drop(\"Recurred\", axis=1)\n",
    "y = df[\"Recurred\"]"
   ]
  },
  {
   "cell_type": "code",
   "execution_count": 63,
   "metadata": {
    "executionInfo": {
     "elapsed": 555,
     "status": "ok",
     "timestamp": 1757842383541,
     "user": {
      "displayName": "Harun ISTIK",
      "userId": "17649403543763452148"
     },
     "user_tz": -180
    },
    "id": "FIjTbG2bLFaP"
   },
   "outputs": [],
   "source": [
    "from sklearn.model_selection import train_test_split\n",
    "X_train, X_test, y_train, y_test = train_test_split(X, y, test_size=0.2, random_state=42)"
   ]
  },
  {
   "cell_type": "markdown",
   "metadata": {
    "id": "DfM8bh_jlUkx"
   },
   "source": [
    "**Scaling**"
   ]
  },
  {
   "cell_type": "code",
   "execution_count": 64,
   "metadata": {
    "executionInfo": {
     "elapsed": 50,
     "status": "ok",
     "timestamp": 1757842383603,
     "user": {
      "displayName": "Harun ISTIK",
      "userId": "17649403543763452148"
     },
     "user_tz": -180
    },
    "id": "y6-0pcZqMRRN"
   },
   "outputs": [],
   "source": [
    "from sklearn.preprocessing import StandardScaler\n",
    "scaler = StandardScaler()\n",
    "\n",
    "X_train = scaler.fit_transform(X_train)\n",
    "X_test = scaler.transform(X_test)"
   ]
  },
  {
   "cell_type": "code",
   "execution_count": 65,
   "metadata": {
    "executionInfo": {
     "elapsed": 11,
     "status": "ok",
     "timestamp": 1757842383603,
     "user": {
      "displayName": "Harun ISTIK",
      "userId": "17649403543763452148"
     },
     "user_tz": -180
    },
    "id": "rnp0l8WHLifX"
   },
   "outputs": [],
   "source": [
    "from sklearn.metrics import classification_report, confusion_matrix"
   ]
  },
  {
   "cell_type": "markdown",
   "metadata": {
    "id": "o5wIXpPKmCTs"
   },
   "source": [
    "# Classification"
   ]
  },
  {
   "cell_type": "markdown",
   "metadata": {
    "id": "qs1SDrLBlOq7"
   },
   "source": [
    "**Logistic Regression**"
   ]
  },
  {
   "cell_type": "code",
   "execution_count": 66,
   "metadata": {
    "colab": {
     "base_uri": "https://localhost:8080/"
    },
    "executionInfo": {
     "elapsed": 165,
     "status": "ok",
     "timestamp": 1757844799771,
     "user": {
      "displayName": "Harun ISTIK",
      "userId": "17649403543763452148"
     },
     "user_tz": -180
    },
    "id": "SUvP3QcoMAFL",
    "outputId": "198365a4-d11d-4649-e8da-bd02f7cd2703"
   },
   "outputs": [
    {
     "name": "stdout",
     "output_type": "stream",
     "text": [
      "confusion matrix : \n",
      "\n",
      " [[58  1]\n",
      " [ 0 18]] \n",
      "\n",
      "classification report : \n",
      "\n",
      "               precision    recall  f1-score   support\n",
      "\n",
      "           0       1.00      0.98      0.99        59\n",
      "           1       0.95      1.00      0.97        18\n",
      "\n",
      "    accuracy                           0.99        77\n",
      "   macro avg       0.97      0.99      0.98        77\n",
      "weighted avg       0.99      0.99      0.99        77\n",
      "\n"
     ]
    }
   ],
   "source": [
    "from sklearn.linear_model import LogisticRegression\n",
    "logistic = LogisticRegression()\n",
    "logistic.fit(X_train, y_train)\n",
    "y_pred = logistic.predict(X_test)\n",
    "print(\"confusion matrix : \\n\\n\",confusion_matrix(y_pred, y_test), \"\\n\")\n",
    "print(\"classification report : \\n\\n\" ,classification_report(y_pred, y_test))"
   ]
  },
  {
   "cell_type": "markdown",
   "metadata": {
    "id": "yR_zavuyk06W"
   },
   "source": [
    "**Support Vektor Machine**\n"
   ]
  },
  {
   "cell_type": "code",
   "execution_count": 67,
   "metadata": {
    "colab": {
     "base_uri": "https://localhost:8080/"
    },
    "executionInfo": {
     "elapsed": 53,
     "status": "ok",
     "timestamp": 1757844782382,
     "user": {
      "displayName": "Harun ISTIK",
      "userId": "17649403543763452148"
     },
     "user_tz": -180
    },
    "id": "_yvlwA0MNCme",
    "outputId": "54555a3d-5045-4537-8968-f3921c44a0fa"
   },
   "outputs": [
    {
     "name": "stdout",
     "output_type": "stream",
     "text": [
      "confusion matrix : \n",
      "\n",
      " [[58  2]\n",
      " [ 0 17]] \n",
      "\n",
      "classification report : \n",
      "\n",
      "               precision    recall  f1-score   support\n",
      "\n",
      "           0       1.00      0.97      0.98        60\n",
      "           1       0.89      1.00      0.94        17\n",
      "\n",
      "    accuracy                           0.97        77\n",
      "   macro avg       0.95      0.98      0.96        77\n",
      "weighted avg       0.98      0.97      0.97        77\n",
      "\n"
     ]
    }
   ],
   "source": [
    "from sklearn.svm import SVC\n",
    "dvm = SVC()\n",
    "dvm.fit(X_train, y_train)\n",
    "y_pred2 = dvm.predict(X_test)\n",
    "print(\"confusion matrix : \\n\\n\",confusion_matrix(y_pred2, y_test), \"\\n\")\n",
    "print(\"classification report : \\n\\n\" ,classification_report(y_pred2, y_test))"
   ]
  },
  {
   "cell_type": "markdown",
   "metadata": {
    "id": "p6nvLA5WtYJo"
   },
   "source": [
    "**Hyperparameter Tuning**"
   ]
  },
  {
   "cell_type": "code",
   "execution_count": 68,
   "metadata": {
    "executionInfo": {
     "elapsed": 45,
     "status": "ok",
     "timestamp": 1757844493294,
     "user": {
      "displayName": "Harun ISTIK",
      "userId": "17649403543763452148"
     },
     "user_tz": -180
    },
    "id": "K9hUwH5Uq2xO"
   },
   "outputs": [],
   "source": [
    "param_grid = {\n",
    "    'C': [0.1, 1, 10, 100, 1000],\n",
    "    'gamma': [1, 0.1, 0.01, 0.001, 0.0001],\n",
    "    'kernel': ['rbf', \"linear\", \"poly\", \"sigmoid\", ]\n",
    "}"
   ]
  },
  {
   "cell_type": "code",
   "execution_count": 69,
   "metadata": {
    "colab": {
     "base_uri": "https://localhost:8080/"
    },
    "executionInfo": {
     "elapsed": 13208,
     "status": "ok",
     "timestamp": 1757844588594,
     "user": {
      "displayName": "Harun ISTIK",
      "userId": "17649403543763452148"
     },
     "user_tz": -180
    },
    "id": "vUu3dR2eqRw0",
    "outputId": "fdddaa5e-9902-4ce7-9cf2-c042b939d1de"
   },
   "outputs": [
    {
     "name": "stdout",
     "output_type": "stream",
     "text": [
      "Fitting 5 folds for each of 100 candidates, totalling 500 fits\n"
     ]
    },
    {
     "data": {
      "text/plain": [
       "{'C': 1, 'gamma': 0.01, 'kernel': 'rbf'}"
      ]
     },
     "execution_count": 69,
     "metadata": {},
     "output_type": "execute_result"
    }
   ],
   "source": [
    "from sklearn.model_selection import StratifiedKFold, GridSearchCV\n",
    "\n",
    "cv = StratifiedKFold()\n",
    "grid = GridSearchCV(estimator=SVC(), param_grid=param_grid, cv=cv, verbose=1)\n",
    "grid.fit(X_train, y_train)\n",
    "y_pred3 = grid.predict(X_test)\n",
    "grid.best_params_"
   ]
  },
  {
   "cell_type": "code",
   "execution_count": 70,
   "metadata": {
    "colab": {
     "base_uri": "https://localhost:8080/"
    },
    "executionInfo": {
     "elapsed": 38,
     "status": "ok",
     "timestamp": 1757844766651,
     "user": {
      "displayName": "Harun ISTIK",
      "userId": "17649403543763452148"
     },
     "user_tz": -180
    },
    "id": "yB56okE1s5Oz",
    "outputId": "a4d3cffe-7eaf-4e7b-f59c-6594265b420d"
   },
   "outputs": [
    {
     "name": "stdout",
     "output_type": "stream",
     "text": [
      "confusion matrix : \n",
      "\n",
      " [[58  3]\n",
      " [ 0 16]] \n",
      "\n",
      "classification report : \n",
      "\n",
      "               precision    recall  f1-score   support\n",
      "\n",
      "           0       1.00      0.95      0.97        61\n",
      "           1       0.84      1.00      0.91        16\n",
      "\n",
      "    accuracy                           0.96        77\n",
      "   macro avg       0.92      0.98      0.94        77\n",
      "weighted avg       0.97      0.96      0.96        77\n",
      "\n"
     ]
    }
   ],
   "source": [
    "print(\"confusion matrix : \\n\\n\",confusion_matrix(y_pred3, y_test), \"\\n\")\n",
    "print(\"classification report : \\n\\n\" ,classification_report(y_pred3, y_test))"
   ]
  },
  {
   "cell_type": "markdown",
   "metadata": {},
   "source": [
    "**Naive Bayes**"
   ]
  },
  {
   "cell_type": "code",
   "execution_count": 71,
   "metadata": {
    "id": "kRD0rSzmtksi"
   },
   "outputs": [
    {
     "name": "stdout",
     "output_type": "stream",
     "text": [
      "confusion matrix : \n",
      "\n",
      " [[58  2]\n",
      " [ 0 17]] \n",
      "\n",
      "classification report : \n",
      "\n",
      "               precision    recall  f1-score   support\n",
      "\n",
      "           0       1.00      0.97      0.98        60\n",
      "           1       0.89      1.00      0.94        17\n",
      "\n",
      "    accuracy                           0.97        77\n",
      "   macro avg       0.95      0.98      0.96        77\n",
      "weighted avg       0.98      0.97      0.97        77\n",
      "\n"
     ]
    }
   ],
   "source": [
    "from sklearn.naive_bayes import GaussianNB\n",
    "\n",
    "gnb = GaussianNB()\n",
    "gnb.fit(X_train, y_train)\n",
    "y_pred_gnb = gnb.predict(X_test);\n",
    "print(\"confusion matrix : \\n\\n\",confusion_matrix(y_pred_gnb, y_test), \"\\n\")\n",
    "print(\"classification report : \\n\\n\" ,classification_report(y_pred_gnb, y_test))"
   ]
  },
  {
   "cell_type": "markdown",
   "metadata": {},
   "source": [
    "**KNeighbors Classifier**"
   ]
  },
  {
   "cell_type": "code",
   "execution_count": 72,
   "metadata": {},
   "outputs": [
    {
     "name": "stdout",
     "output_type": "stream",
     "text": [
      "confusion matrix : \n",
      "\n",
      " [[58  3]\n",
      " [ 0 16]] \n",
      "\n",
      "classification report : \n",
      "\n",
      "               precision    recall  f1-score   support\n",
      "\n",
      "           0       1.00      0.95      0.97        61\n",
      "           1       0.84      1.00      0.91        16\n",
      "\n",
      "    accuracy                           0.96        77\n",
      "   macro avg       0.92      0.98      0.94        77\n",
      "weighted avg       0.97      0.96      0.96        77\n",
      "\n"
     ]
    }
   ],
   "source": [
    "from sklearn.neighbors import KNeighborsClassifier\n",
    "\n",
    "knn = KNeighborsClassifier(n_neighbors=3)\n",
    "knn.fit(X_train, y_train)\n",
    "y_pred_knn = knn.predict(X_test)\n",
    "print(\"confusion matrix : \\n\\n\",confusion_matrix(y_pred_knn, y_test), \"\\n\")\n",
    "print(\"classification report : \\n\\n\" ,classification_report(y_pred_knn, y_test))"
   ]
  }
 ],
 "metadata": {
  "colab": {
   "authorship_tag": "ABX9TyN+4TIpuY7229oc5mSikPqo",
   "provenance": []
  },
  "kernelspec": {
   "display_name": ".venv",
   "language": "python",
   "name": "python3"
  },
  "language_info": {
   "codemirror_mode": {
    "name": "ipython",
    "version": 3
   },
   "file_extension": ".py",
   "mimetype": "text/x-python",
   "name": "python",
   "nbconvert_exporter": "python",
   "pygments_lexer": "ipython3",
   "version": "3.10.10"
  }
 },
 "nbformat": 4,
 "nbformat_minor": 0
}
